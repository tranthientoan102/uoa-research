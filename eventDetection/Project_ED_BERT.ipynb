{
 "cells": [
  {
   "cell_type": "code",
   "execution_count": 1,
   "metadata": {
    "id": "-DIB5Ckvwjno"
   },
   "outputs": [
    {
     "name": "stdout",
     "output_type": "stream",
     "text": [
      "/home/bit/Desktop/Project/Event Detection\r\n"
     ]
    }
   ],
   "source": [
    "!pwd"
   ]
  },
  {
   "cell_type": "code",
   "execution_count": null,
   "metadata": {
    "colab": {
     "base_uri": "https://localhost:8080/"
    },
    "executionInfo": {
     "elapsed": 16500,
     "status": "ok",
     "timestamp": 1638773108717,
     "user": {
      "displayName": "Nero Cao",
      "photoUrl": "https://lh3.googleusercontent.com/a/default-user=s64",
      "userId": "05305083952686219705"
     },
     "user_tz": -630
    },
    "id": "t5eL_gHOwkAz",
    "outputId": "63238eed-baa6-44cd-f5ee-fc65f982e2cd"
   },
   "outputs": [],
   "source": []
  },
  {
   "cell_type": "code",
   "execution_count": 2,
   "metadata": {
    "colab": {
     "base_uri": "https://localhost:8080/"
    },
    "executionInfo": {
     "elapsed": 347,
     "status": "ok",
     "timestamp": 1638773113209,
     "user": {
      "displayName": "Nero Cao",
      "photoUrl": "https://lh3.googleusercontent.com/a/default-user=s64",
      "userId": "05305083952686219705"
     },
     "user_tz": -630
    },
    "id": "Qyy2IpTzbgF0",
    "outputId": "0a499a99-5bdf-4c30-a50c-2a3d6875f10a"
   },
   "outputs": [
    {
     "name": "stdout",
     "output_type": "stream",
     "text": [
      "Fri Dec 10 10:52:33 2021       \r\n",
      "+-----------------------------------------------------------------------------+\r\n",
      "| NVIDIA-SMI 470.86       Driver Version: 470.86       CUDA Version: 11.4     |\r\n",
      "|-------------------------------+----------------------+----------------------+\r\n",
      "| GPU  Name        Persistence-M| Bus-Id        Disp.A | Volatile Uncorr. ECC |\r\n",
      "| Fan  Temp  Perf  Pwr:Usage/Cap|         Memory-Usage | GPU-Util  Compute M. |\r\n",
      "|                               |                      |               MIG M. |\r\n",
      "|===============================+======================+======================|\r\n",
      "|   0  NVIDIA GeForce ...  Off  | 00000000:09:00.0  On |                  N/A |\r\n",
      "| 37%   64C    P2   127W / 350W |  14577MiB / 24259MiB |      0%      Default |\r\n",
      "|                               |                      |                  N/A |\r\n",
      "+-------------------------------+----------------------+----------------------+\r\n",
      "                                                                               \r\n",
      "+-----------------------------------------------------------------------------+\r\n",
      "| Processes:                                                                  |\r\n",
      "|  GPU   GI   CI        PID   Type   Process name                  GPU Memory |\r\n",
      "|        ID   ID                                                   Usage      |\r\n",
      "|=============================================================================|\r\n",
      "|    0   N/A  N/A      1053      G   /usr/lib/xorg/Xorg                 35MiB |\r\n",
      "|    0   N/A  N/A      1650      G   /usr/lib/xorg/Xorg                 45MiB |\r\n",
      "|    0   N/A  N/A      1780      G   /usr/bin/gnome-shell               22MiB |\r\n",
      "+-----------------------------------------------------------------------------+\r\n"
     ]
    }
   ],
   "source": [
    "!nvidia-smi"
   ]
  },
  {
   "cell_type": "code",
   "execution_count": 3,
   "metadata": {
    "colab": {
     "base_uri": "https://localhost:8080/"
    },
    "executionInfo": {
     "elapsed": 17745,
     "status": "ok",
     "timestamp": 1638773134293,
     "user": {
      "displayName": "Nero Cao",
      "photoUrl": "https://lh3.googleusercontent.com/a/default-user=s64",
      "userId": "05305083952686219705"
     },
     "user_tz": -630
    },
    "id": "dPdpNulr5rdc",
    "outputId": "2ca7dea0-608e-4b7a-d5b2-05b3a16164dc"
   },
   "outputs": [
    {
     "name": "stdout",
     "output_type": "stream",
     "text": [
      "Python implementation: CPython\n",
      "Python version       : 3.9.7\n",
      "IPython version      : 7.29.0\n",
      "\n",
      "numpy       : 1.20.3\n",
      "pandas      : 1.3.4\n",
      "torch       : 1.10.0\n",
      "transformers: 4.7.0\n",
      "\n"
     ]
    }
   ],
   "source": [
    "!pip install -q -U watermark\n",
    "!pip install -qq transformers\n",
    "%reload_ext watermark\n",
    "%watermark -v -p numpy,pandas,torch,transformers"
   ]
  },
  {
   "cell_type": "code",
   "execution_count": 4,
   "metadata": {
    "colab": {
     "base_uri": "https://localhost:8080/"
    },
    "executionInfo": {
     "elapsed": 3277,
     "status": "ok",
     "timestamp": 1638773137562,
     "user": {
      "displayName": "Nero Cao",
      "photoUrl": "https://lh3.googleusercontent.com/a/default-user=s64",
      "userId": "05305083952686219705"
     },
     "user_tz": -630
    },
    "id": "pEHKZt-qRG5x",
    "outputId": "acf3d97b-cae4-405f-dc02-5bbc2036b8fd"
   },
   "outputs": [
    {
     "data": {
      "text/plain": [
       "device(type='cuda', index=0)"
      ]
     },
     "execution_count": 4,
     "metadata": {},
     "output_type": "execute_result"
    }
   ],
   "source": [
    "#@title Setup & Config\n",
    "import transformers\n",
    "from transformers import BertModel, BertTokenizer, AdamW, get_linear_schedule_with_warmup, AutoTokenizer, AutoModelForSequenceClassification\n",
    "import torch\n",
    "\n",
    "import numpy as np\n",
    "import pandas as pd\n",
    "import seaborn as sns\n",
    "from pylab import rcParams\n",
    "import matplotlib.pyplot as plt\n",
    "from matplotlib import rc\n",
    "from sklearn.model_selection import train_test_split\n",
    "from sklearn.metrics import confusion_matrix, classification_report\n",
    "from collections import defaultdict\n",
    "from textwrap import wrap\n",
    "\n",
    "from torch import nn, optim\n",
    "from torch.utils.data import Dataset, DataLoader\n",
    "import torch.nn.functional as F\n",
    "from sklearn.metrics import f1_score\n",
    "\n",
    "%matplotlib inline\n",
    "%config InlineBackend.figure_format='retina'\n",
    "\n",
    "sns.set(style='whitegrid', palette='muted', font_scale=1.2)\n",
    "\n",
    "HAPPY_COLORS_PALETTE = [\"#01BEFE\", \"#FFDD00\", \"#FF7D00\", \"#FF006D\", \"#ADFF02\", \"#8F00FF\"]\n",
    "\n",
    "sns.set_palette(sns.color_palette(HAPPY_COLORS_PALETTE))\n",
    "\n",
    "rcParams['figure.figsize'] = 12, 8\n",
    "\n",
    "# RANDOM_SEED = 42\n",
    "# np.random.seed(RANDOM_SEED)\n",
    "# torch.manual_seed(RANDOM_SEED)\n",
    "\n",
    "device = torch.device(\"cuda:0\" if torch.cuda.is_available() else \"cpu\")\n",
    "device"
   ]
  },
  {
   "cell_type": "markdown",
   "metadata": {
    "id": "HHAlx_DgsuY6"
   },
   "source": [
    "# New Section"
   ]
  },
  {
   "cell_type": "code",
   "execution_count": null,
   "metadata": {
    "id": "AoiHKtRV8EwC"
   },
   "outputs": [],
   "source": []
  },
  {
   "cell_type": "code",
   "execution_count": null,
   "metadata": {
    "id": "2O_HqSb1Bon0"
   },
   "outputs": [],
   "source": []
  },
  {
   "cell_type": "code",
   "execution_count": 5,
   "metadata": {
    "id": "xRdWcGGBFYTu"
   },
   "outputs": [],
   "source": [
    "from transformers import BertTokenizer,BertModel\n",
    "# PRE_TRAINED_MODEL_NAME = \"hfl/chinese-roberta-wwm-ext\"\n",
    "# PRE_TRAINED_MODEL_NAME = \"hfl/chinese-roberta-wwm-ext-large\"\n",
    "# PRE_TRAINED_MODEL_NAME = \"hfl/chinese-bert-wwm-ext\"\n",
    "PRE_TRAINED_MODEL_NAME = \"bert-base-uncased\"\n",
    "# PRE_TRAINED_MODEL_NAME = \"ProsusAI/finbert\"\n",
    "# PRE_TRAINED_MODEL_NAME = \"bert-base-chinese\"\n",
    "tokenizer = BertTokenizer.from_pretrained(PRE_TRAINED_MODEL_NAME,do_lower_case=True)"
   ]
  },
  {
   "cell_type": "code",
   "execution_count": 7,
   "metadata": {
    "executionInfo": {
     "elapsed": 478,
     "status": "ok",
     "timestamp": 1638773253098,
     "user": {
      "displayName": "Nero Cao",
      "photoUrl": "https://lh3.googleusercontent.com/a/default-user=s64",
      "userId": "05305083952686219705"
     },
     "user_tz": -630
    },
    "id": "uD9bYX7rgXOt"
   },
   "outputs": [],
   "source": [
    "# data = pd.read_csv('/home/bit/Desktop/Project/data/Event Detection - Annotations of current database.csv',encoding='latin')\n",
    "# data = data.sample(frac=1)\n",
    "# data = data.reset_index(drop=True)"
   ]
  },
  {
   "cell_type": "code",
   "execution_count": 8,
   "metadata": {},
   "outputs": [
    {
     "name": "stdout",
     "output_type": "stream",
     "text": [
      "Index(['cancer journey', 'qum', 'health inequity/disparity',\n",
      "       'patient centricity', 'phc', 'innovation/innovative therapies',\n",
      "       'affordability', 'initiatives/education', 'timely access',\n",
      "       'advocary/reform'],\n",
      "      dtype='object')\n"
     ]
    }
   ],
   "source": [
    "# dictionary={}\n",
    "# data = data.fillna(0)\n",
    "# for col in data.columns[2:12]:\n",
    "#     a = list(data[col].unique())\n",
    "#     a.remove(0)\n",
    "#     dictionary[col]=a[0]\n",
    "#     data.loc[data[col]!=0,col]=1\n",
    "# data = data.rename(columns=dictionary)\n",
    "# print(data.columns[2:12])"
   ]
  },
  {
   "cell_type": "code",
   "execution_count": 9,
   "metadata": {},
   "outputs": [],
   "source": [
    "# data = data.sample(frac=1)\n",
    "# data = data.reset_index(drop=True)\n",
    "# df_train = data.loc[0:int(0.8*len(data))]\n",
    "# df_val = data.loc[int(0.8*len(data)):int(0.9*len(data))]\n",
    "# df_test = data.loc[int(0.9*len(data)):]\n",
    "\n",
    "# df_train.to_csv('/home/bit/Desktop/Project/data/ed_train.csv',sep='\\t',index=None)\n",
    "# df_val.to_csv('/home/bit/Desktop/Project/data/ed_val.csv',sep='\\t',index=None)\n",
    "# df_test.to_csv('/home/bit/Desktop/Project/data/ed_test.csv',sep='\\t',index=None)"
   ]
  },
  {
   "cell_type": "code",
   "execution_count": 10,
   "metadata": {},
   "outputs": [],
   "source": [
    "df_train = pd.read_csv('/home/bit/Desktop/Project/data/ed_train.csv',encoding='latin',sep='\\t')\n",
    "df_val = pd.read_csv('/home/bit/Desktop/Project/data/ed_val.csv',encoding='latin',sep='\\t')\n",
    "df_test = pd.read_csv('/home/bit/Desktop/Project/data/ed_test.csv',encoding='latin',sep='\\t')"
   ]
  },
  {
   "cell_type": "code",
   "execution_count": 11,
   "metadata": {},
   "outputs": [],
   "source": [
    "df_train = df_train.fillna(0)\n",
    "df_val = df_val.fillna(0)\n",
    "df_test = df_test.fillna(0)\n"
   ]
  },
  {
   "cell_type": "code",
   "execution_count": 12,
   "metadata": {
    "colab": {
     "base_uri": "https://localhost:8080/",
     "height": 825
    },
    "executionInfo": {
     "elapsed": 499,
     "status": "ok",
     "timestamp": 1638773256540,
     "user": {
      "displayName": "Nero Cao",
      "photoUrl": "https://lh3.googleusercontent.com/a/default-user=s64",
      "userId": "05305083952686219705"
     },
     "user_tz": -630
    },
    "id": "rsSuB1VDtlhX",
    "outputId": "605a65dd-137c-4008-f9e1-20bf3b8c1b22",
    "scrolled": false
   },
   "outputs": [],
   "source": [
    "def label_digitalise(data):\n",
    "    dictionary={}\n",
    "    for col in data.columns[2:12]:\n",
    "#         a = list(data[col].unique())\n",
    "#         a.remove(0)\n",
    "#         dictionary[col]=a[0]\n",
    "        data.loc[data[col]!=0,col]=1\n",
    "#     data.rename(columns=dictionary)\n",
    "    return data\n",
    "\n",
    "df_train = label_digitalise(df_train)\n",
    "df_test = label_digitalise(df_test)\n",
    "df_val = label_digitalise(df_val)"
   ]
  },
  {
   "cell_type": "code",
   "execution_count": null,
   "metadata": {
    "id": "XQb-CZxsgbUu"
   },
   "outputs": [],
   "source": []
  },
  {
   "cell_type": "code",
   "execution_count": null,
   "metadata": {},
   "outputs": [],
   "source": []
  },
  {
   "cell_type": "code",
   "execution_count": null,
   "metadata": {
    "id": "5j-6BQa9oWFN"
   },
   "outputs": [],
   "source": []
  },
  {
   "cell_type": "code",
   "execution_count": 13,
   "metadata": {
    "id": "DSUMRhmkMwYj"
   },
   "outputs": [],
   "source": [
    "# sns.distplot(token_lens)\n",
    "# plt.xlabel('Token count')"
   ]
  },
  {
   "cell_type": "code",
   "execution_count": 14,
   "metadata": {
    "id": "EW_JmYxCNyLa"
   },
   "outputs": [],
   "source": [
    "class GPReviewDataset(Dataset):\n",
    "\n",
    "  def __init__(self, reviews, targets, tokenizer, max_len):\n",
    "    self.reviews = reviews\n",
    "    self.targets = targets\n",
    "    self.tokenizer = tokenizer\n",
    "    self.max_len = max_len\n",
    "  \n",
    "  def __len__(self):\n",
    "    return len(self.reviews)\n",
    "  \n",
    "  def __getitem__(self, item):\n",
    "    review = str(self.reviews[item])\n",
    "    target = self.targets[item]\n",
    "\n",
    "    encoding = self.tokenizer.encode_plus(\n",
    "      review,\n",
    "      add_special_tokens=True,\n",
    "      max_length=self.max_len,\n",
    "      return_token_type_ids=False,\n",
    "      padding='max_length',\n",
    "      truncation=True,\n",
    "      return_attention_mask=True,\n",
    "      return_tensors='pt',\n",
    "    )\n",
    "\n",
    "    return {\n",
    "      'review_text': review,\n",
    "      'input_ids': encoding['input_ids'].flatten(),\n",
    "      'attention_mask': encoding['attention_mask'].flatten(),\n",
    "      'targets': torch.tensor(target)\n",
    "    }"
   ]
  },
  {
   "cell_type": "code",
   "execution_count": 25,
   "metadata": {
    "id": "cPZSIigpPtEr"
   },
   "outputs": [],
   "source": [
    "def create_data_loader(df, tokenizer, max_len, batch_size):\n",
    "  ds = GPReviewDataset(\n",
    "    reviews=df.text.to_numpy(),\n",
    "    targets=df.iloc[:,2:12].values.tolist(),\n",
    "    tokenizer=tokenizer,\n",
    "    max_len=max_len\n",
    "  )\n",
    "\n",
    "  return DataLoader(\n",
    "    ds,\n",
    "    batch_size=batch_size,\n",
    "    num_workers=4\n",
    "  )"
   ]
  },
  {
   "cell_type": "code",
   "execution_count": 67,
   "metadata": {
    "colab": {
     "base_uri": "https://localhost:8080/"
    },
    "executionInfo": {
     "elapsed": 17,
     "status": "ok",
     "timestamp": 1638492654850,
     "user": {
      "displayName": "Nero Cao",
      "photoUrl": "https://lh3.googleusercontent.com/a/default-user=s64",
      "userId": "05305083952686219705"
     },
     "user_tz": -630
    },
    "id": "upOSL-NiRhzy",
    "outputId": "fed1048d-ca7a-45eb-f860-f6fdfd28e703"
   },
   "outputs": [],
   "source": [
    "BATCH_SIZE = 16\n",
    "max_len = 300\n",
    "class_names = ['cancer journey', 'qum', 'health inequity/disparity', 'patient centricity', 'phc', 'innovation/innovative therapies','affordability', 'initiatives/education', 'timely access','advocary/reform']\n",
    "\n",
    "\n",
    "train_data_loader = create_data_loader(df_train, tokenizer, max_len, BATCH_SIZE)\n",
    "val_data_loader = create_data_loader(df_val, tokenizer, max_len, BATCH_SIZE)\n",
    "test_data_loader = create_data_loader(df_test, tokenizer, max_len, BATCH_SIZE)"
   ]
  },
  {
   "cell_type": "code",
   "execution_count": null,
   "metadata": {
    "id": "vDjd-DrAUt-d"
   },
   "outputs": [],
   "source": []
  },
  {
   "cell_type": "code",
   "execution_count": null,
   "metadata": {
    "id": "bidtjT6UEKkk"
   },
   "outputs": [],
   "source": []
  },
  {
   "cell_type": "code",
   "execution_count": 28,
   "metadata": {
    "id": "hsRtLnPlWulS"
   },
   "outputs": [],
   "source": [
    "class SentimentClassifier(nn.Module):\n",
    "\n",
    "  def __init__(self, n_classes):\n",
    "    super(SentimentClassifier, self).__init__()\n",
    "    self.bert = BertModel.from_pretrained(PRE_TRAINED_MODEL_NAME)\n",
    "    self.drop = nn.Dropout(p=0.1)\n",
    "    self.sig = nn.Sigmoid()\n",
    "    self.out = nn.Linear(self.bert.config.hidden_size, n_classes)\n",
    "  \n",
    "  def forward(self, input_ids, attention_mask):\n",
    "    pooled_output = self.bert(\n",
    "      input_ids=input_ids,\n",
    "      attention_mask=attention_mask\n",
    "    )[1]\n",
    "    \n",
    "    output = self.drop(pooled_output)\n",
    "    # # output = self.L1(output)\n",
    "    output = self.out(pooled_output)\n",
    "#     output = self.sig(output)\n",
    " \n",
    "    return output"
   ]
  },
  {
   "cell_type": "code",
   "execution_count": 29,
   "metadata": {
    "colab": {
     "base_uri": "https://localhost:8080/"
    },
    "executionInfo": {
     "elapsed": 5810,
     "status": "ok",
     "timestamp": 1638492660645,
     "user": {
      "displayName": "Nero Cao",
      "photoUrl": "https://lh3.googleusercontent.com/a/default-user=s64",
      "userId": "05305083952686219705"
     },
     "user_tz": -630
    },
    "id": "KQEOV2pfYBPs",
    "outputId": "220df4cd-8af5-40b3-f689-d271eb572fa2"
   },
   "outputs": [
    {
     "name": "stderr",
     "output_type": "stream",
     "text": [
      "Some weights of the model checkpoint at bert-base-uncased were not used when initializing BertModel: ['cls.predictions.transform.dense.weight', 'cls.predictions.bias', 'cls.seq_relationship.weight', 'cls.predictions.transform.LayerNorm.bias', 'cls.predictions.transform.LayerNorm.weight', 'cls.seq_relationship.bias', 'cls.predictions.transform.dense.bias', 'cls.predictions.decoder.weight']\n",
      "- This IS expected if you are initializing BertModel from the checkpoint of a model trained on another task or with another architecture (e.g. initializing a BertForSequenceClassification model from a BertForPreTraining model).\n",
      "- This IS NOT expected if you are initializing BertModel from the checkpoint of a model that you expect to be exactly identical (initializing a BertForSequenceClassification model from a BertForSequenceClassification model).\n"
     ]
    }
   ],
   "source": [
    "model = SentimentClassifier(len(class_names))\n",
    "model = model.to(device)"
   ]
  },
  {
   "cell_type": "code",
   "execution_count": 30,
   "metadata": {},
   "outputs": [],
   "source": [
    "# data = next(iter(train_data_loader))\n",
    "# data.keys()"
   ]
  },
  {
   "cell_type": "code",
   "execution_count": 31,
   "metadata": {
    "id": "IfJO5a0NGPf_"
   },
   "outputs": [],
   "source": [
    "# input_ids = data['input_ids'].to(device)\n",
    "# attention_mask = data['attention_mask'].to(device)\n",
    "# print(input_ids.shape) # batch size x seq length\n",
    "# print(attention_mask.shape) # batch size x seq length"
   ]
  },
  {
   "cell_type": "code",
   "execution_count": 32,
   "metadata": {
    "id": "uLl-umJKYGtB"
   },
   "outputs": [],
   "source": [
    "# model(input_ids,attention_mask)"
   ]
  },
  {
   "cell_type": "code",
   "execution_count": null,
   "metadata": {
    "id": "VX0A_axjYJfP"
   },
   "outputs": [],
   "source": []
  },
  {
   "cell_type": "code",
   "execution_count": null,
   "metadata": {
    "id": "82irQeXrOfWI"
   },
   "outputs": [],
   "source": []
  },
  {
   "cell_type": "code",
   "execution_count": 33,
   "metadata": {
    "id": "4q2fUr9TYMxW"
   },
   "outputs": [],
   "source": [
    "EPOCHS = 30\n",
    "\n",
    "optimizer = AdamW(model.parameters(), lr=2e-5, correct_bias=False)\n",
    "total_steps = len(train_data_loader) * EPOCHS\n",
    "\n",
    "scheduler = get_linear_schedule_with_warmup(\n",
    "  optimizer,\n",
    "  num_warmup_steps=0,\n",
    "  num_training_steps=total_steps\n",
    ")\n",
    "\n",
    "loss_fn = nn.BCEWithLogitsLoss().to(device)"
   ]
  },
  {
   "cell_type": "markdown",
   "metadata": {
    "id": "OYA1f6t3f2ex"
   },
   "source": []
  },
  {
   "cell_type": "code",
   "execution_count": 34,
   "metadata": {
    "id": "oLLFWDvDYeeS"
   },
   "outputs": [],
   "source": [
    "def train_epoch(\n",
    "  model, \n",
    "  data_loader, \n",
    "  loss_fn, \n",
    "  optimizer, \n",
    "  device, \n",
    "  scheduler, \n",
    "  n_examples\n",
    "):\n",
    "  model = model.train()\n",
    "\n",
    "  losses = []\n",
    "  correct_predictions = 0\n",
    "\n",
    "  for d in data_loader:\n",
    "    input_ids = d[\"input_ids\"].to(device)\n",
    "    attention_mask = d[\"attention_mask\"].to(device)\n",
    "    targets = d[\"targets\"].to(device)\n",
    "\n",
    "    outputs = model(\n",
    "      input_ids=input_ids,\n",
    "      attention_mask=attention_mask\n",
    "    )\n",
    "    for pred, label in zip(outputs.cpu(), targets.cpu()):\n",
    "#       print(pred,label)\n",
    "      seq_tags = set(list(np.where(pred > 0)[0]))\n",
    "#       print(seq_tags)\n",
    "      label = label.cpu().numpy()\n",
    "      label = set(list(np.where(label == 1)[0]))\n",
    "#       print(label)\n",
    "      if seq_tags == label:\n",
    "        correct_predictions += 1\n",
    "\n",
    "\n",
    "    loss = loss_fn(outputs, targets.float())\n",
    "    losses.append(loss.item())\n",
    "\n",
    "    loss.backward()\n",
    "    nn.utils.clip_grad_norm_(model.parameters(), max_norm=1.0)\n",
    "    optimizer.step()\n",
    "    scheduler.step()\n",
    "    optimizer.zero_grad()\n",
    "\n",
    "  return float(correct_predictions) / n_examples, np.mean(losses)"
   ]
  },
  {
   "cell_type": "code",
   "execution_count": 35,
   "metadata": {
    "id": "VmDYxiXDYl-u"
   },
   "outputs": [],
   "source": [
    "def eval_model(model, data_loader, loss_fn, device, n_examples):\n",
    "  model = model.eval()\n",
    "\n",
    "  losses = []\n",
    "  correct_predictions = 0\n",
    "\n",
    "  with torch.no_grad():\n",
    "    for d in data_loader:\n",
    "      input_ids = d[\"input_ids\"].to(device)\n",
    "      attention_mask = d[\"attention_mask\"].to(device)\n",
    "      targets = d[\"targets\"].to(device)\n",
    "\n",
    "      outputs = model(\n",
    "        input_ids=input_ids,\n",
    "        attention_mask=attention_mask\n",
    "      )\n",
    "      \n",
    "      if outputs.dim()==1:\n",
    "        outputs = torch.unsqueeze(outputs,0)\n",
    "      for pred, label in zip(outputs.cpu(), targets.cpu()):\n",
    "        seq_tags = set(list(np.where(pred > 0)[0]))\n",
    "        label = label.cpu().numpy()\n",
    "        label = set(list(np.where(label == 1)[0]))\n",
    "        if seq_tags == label:\n",
    "          correct_predictions += 1\n",
    "      \n",
    "      loss = loss_fn(outputs, targets.float())\n",
    "      losses.append(loss.item())\n",
    "\n",
    "  return float(correct_predictions) / n_examples, np.mean(losses)"
   ]
  },
  {
   "cell_type": "code",
   "execution_count": 36,
   "metadata": {
    "id": "Nkvo-2p93Dnr"
   },
   "outputs": [],
   "source": [
    "history = defaultdict(list)\n",
    "best_accuracy = 0\n",
    "# EPOCHS = 5"
   ]
  },
  {
   "cell_type": "code",
   "execution_count": 37,
   "metadata": {
    "colab": {
     "base_uri": "https://localhost:8080/",
     "height": 1000
    },
    "executionInfo": {
     "elapsed": 289225,
     "status": "error",
     "timestamp": 1638492949858,
     "user": {
      "displayName": "Nero Cao",
      "photoUrl": "https://lh3.googleusercontent.com/a/default-user=s64",
      "userId": "05305083952686219705"
     },
     "user_tz": -630
    },
    "id": "VZvKK2TkYojZ",
    "outputId": "77512073-5a22-481f-e82b-1dedbe236c2e"
   },
   "outputs": [
    {
     "name": "stdout",
     "output_type": "stream",
     "text": [
      "Epoch 1/30\n",
      "----------\n",
      "Train loss 0.5384872513157981 accuracy 0.009569377990430622\n",
      "Val   loss 0.4341655373573303 accuracy 0.0\n",
      "\n",
      "Epoch 2/30\n",
      "----------\n",
      "Train loss 0.4289812466927937 accuracy 0.023923444976076555\n",
      "Val   loss 0.40122079849243164 accuracy 0.14814814814814814\n",
      "\n",
      "Epoch 3/30\n",
      "----------\n",
      "Train loss 0.38589252318654743 accuracy 0.10047846889952153\n",
      "Val   loss 0.3782879263162613 accuracy 0.18518518518518517\n",
      "\n",
      "Epoch 4/30\n",
      "----------\n",
      "Train loss 0.34203265607357025 accuracy 0.14354066985645933\n",
      "Val   loss 0.3721715658903122 accuracy 0.2222222222222222\n",
      "\n",
      "Epoch 5/30\n",
      "----------\n",
      "Train loss 0.3161159540925707 accuracy 0.215311004784689\n",
      "Val   loss 0.3527398854494095 accuracy 0.2222222222222222\n",
      "\n",
      "Epoch 6/30\n",
      "----------\n",
      "Train loss 0.27749297874314444 accuracy 0.291866028708134\n",
      "Val   loss 0.3610536903142929 accuracy 0.2222222222222222\n",
      "\n",
      "Epoch 7/30\n",
      "----------\n",
      "Train loss 0.24035460076161794 accuracy 0.4449760765550239\n",
      "Val   loss 0.34354542195796967 accuracy 0.3333333333333333\n",
      "\n",
      "Epoch 8/30\n",
      "----------\n",
      "Train loss 0.2170650703566415 accuracy 0.5167464114832536\n",
      "Val   loss 0.33826790750026703 accuracy 0.37037037037037035\n",
      "\n",
      "Epoch 9/30\n",
      "----------\n",
      "Train loss 0.19600185539041245 accuracy 0.5263157894736842\n",
      "Val   loss 0.35255804657936096 accuracy 0.37037037037037035\n",
      "\n",
      "Epoch 10/30\n",
      "----------\n",
      "Train loss 0.17800661815064295 accuracy 0.5933014354066986\n",
      "Val   loss 0.36333972215652466 accuracy 0.25925925925925924\n",
      "\n",
      "Epoch 11/30\n",
      "----------\n",
      "Train loss 0.16066111783896173 accuracy 0.7081339712918661\n",
      "Val   loss 0.3355541527271271 accuracy 0.2962962962962963\n",
      "\n",
      "Epoch 12/30\n",
      "----------\n",
      "Train loss 0.13540654948779515 accuracy 0.784688995215311\n",
      "Val   loss 0.3237146884202957 accuracy 0.2962962962962963\n",
      "\n",
      "Epoch 13/30\n",
      "----------\n",
      "Train loss 0.12226744209017072 accuracy 0.8516746411483254\n",
      "Val   loss 0.33820100128650665 accuracy 0.2962962962962963\n",
      "\n",
      "Epoch 14/30\n",
      "----------\n",
      "Train loss 0.10841071446027074 accuracy 0.9234449760765551\n",
      "Val   loss 0.3426125943660736 accuracy 0.3333333333333333\n",
      "\n",
      "Epoch 15/30\n",
      "----------\n",
      "Train loss 0.09976569988897868 accuracy 0.9282296650717703\n",
      "Val   loss 0.3295655846595764 accuracy 0.2962962962962963\n",
      "\n",
      "Epoch 16/30\n",
      "----------\n",
      "Train loss 0.09256865217217378 accuracy 0.9617224880382775\n",
      "Val   loss 0.3469429463148117 accuracy 0.3333333333333333\n",
      "\n",
      "Epoch 17/30\n",
      "----------\n",
      "Train loss 0.08728067044700895 accuracy 0.9665071770334929\n",
      "Val   loss 0.33764465153217316 accuracy 0.2962962962962963\n",
      "\n",
      "Epoch 18/30\n",
      "----------\n",
      "Train loss 0.08335668753300395 accuracy 0.9665071770334929\n",
      "Val   loss 0.34449321031570435 accuracy 0.2962962962962963\n",
      "\n",
      "Epoch 19/30\n",
      "----------\n",
      "Train loss 0.0799546515835183 accuracy 0.9808612440191388\n",
      "Val   loss 0.34871673583984375 accuracy 0.2962962962962963\n",
      "\n",
      "Epoch 20/30\n",
      "----------\n",
      "Train loss 0.07699148144040789 accuracy 0.9808612440191388\n",
      "Val   loss 0.35101599991321564 accuracy 0.2962962962962963\n",
      "\n",
      "Epoch 21/30\n",
      "----------\n",
      "Train loss 0.074808822412576 accuracy 0.9617224880382775\n",
      "Val   loss 0.34825557470321655 accuracy 0.2962962962962963\n",
      "\n",
      "Epoch 22/30\n",
      "----------\n",
      "Train loss 0.07237678340503148 accuracy 0.9856459330143541\n",
      "Val   loss 0.3530627191066742 accuracy 0.2962962962962963\n",
      "\n",
      "Epoch 23/30\n",
      "----------\n",
      "Train loss 0.07119282122169222 accuracy 0.9904306220095693\n",
      "Val   loss 0.3533233255147934 accuracy 0.2962962962962963\n",
      "\n",
      "Epoch 24/30\n",
      "----------\n",
      "Train loss 0.06924992240965366 accuracy 0.9856459330143541\n",
      "Val   loss 0.3563297688961029 accuracy 0.2962962962962963\n",
      "\n",
      "Epoch 25/30\n",
      "----------\n",
      "Train loss 0.06801303582532066 accuracy 0.9952153110047847\n",
      "Val   loss 0.35665805637836456 accuracy 0.2962962962962963\n",
      "\n",
      "Epoch 26/30\n",
      "----------\n",
      "Train loss 0.0669055770018271 accuracy 0.9712918660287081\n",
      "Val   loss 0.35662150382995605 accuracy 0.2962962962962963\n",
      "\n",
      "Epoch 27/30\n",
      "----------\n",
      "Train loss 0.0663438378168004 accuracy 0.9952153110047847\n",
      "Val   loss 0.35791783034801483 accuracy 0.2962962962962963\n",
      "\n",
      "Epoch 28/30\n",
      "----------\n",
      "Train loss 0.06553696335426398 accuracy 0.9856459330143541\n",
      "Val   loss 0.3591606020927429 accuracy 0.2962962962962963\n",
      "\n",
      "Epoch 29/30\n",
      "----------\n",
      "Train loss 0.06531406726155962 accuracy 0.9808612440191388\n",
      "Val   loss 0.3589302897453308 accuracy 0.2962962962962963\n",
      "\n",
      "Epoch 30/30\n",
      "----------\n",
      "Train loss 0.06495819027934756 accuracy 0.9952153110047847\n",
      "Val   loss 0.35876254737377167 accuracy 0.2962962962962963\n",
      "\n",
      "CPU times: user 1min 14s, sys: 19.3 s, total: 1min 33s\n",
      "Wall time: 1min 41s\n"
     ]
    }
   ],
   "source": [
    "%%time\n",
    "\n",
    "for epoch in range(EPOCHS):\n",
    "\n",
    "  print(f'Epoch {epoch + 1}/{EPOCHS}')\n",
    "  print('-' * 10)\n",
    "\n",
    "  train_acc, train_loss = train_epoch(\n",
    "    model,\n",
    "    train_data_loader,    \n",
    "    loss_fn, \n",
    "    optimizer, \n",
    "    device, \n",
    "    scheduler, \n",
    "    len(df_train)\n",
    "  )\n",
    "\n",
    "  print(f'Train loss {train_loss} accuracy {train_acc}')\n",
    "\n",
    "  val_acc, val_loss = eval_model(\n",
    "    model,\n",
    "    val_data_loader,\n",
    "    loss_fn, \n",
    "    device, \n",
    "    len(df_val)\n",
    "  )\n",
    "\n",
    "  print(f'Val   loss {val_loss} accuracy {val_acc}')\n",
    "  print()\n",
    "\n",
    "  history['train_acc'].append(train_acc)\n",
    "  history['train_loss'].append(train_loss)\n",
    "  history['val_acc'].append(val_acc)\n",
    "  history['val_loss'].append(val_loss)\n",
    "\n",
    "  \n",
    "  if val_acc > best_accuracy:\n",
    "    torch.save(model.state_dict(), 'ed_best_model_state.bin')\n",
    "    best_accuracy = val_acc\n",
    "  torch.save(model.state_dict(), 'ed_last_model_state.bin')"
   ]
  },
  {
   "cell_type": "code",
   "execution_count": 38,
   "metadata": {
    "colab": {
     "base_uri": "https://localhost:8080/"
    },
    "executionInfo": {
     "elapsed": 303,
     "status": "ok",
     "timestamp": 1638492953864,
     "user": {
      "displayName": "Nero Cao",
      "photoUrl": "https://lh3.googleusercontent.com/a/default-user=s64",
      "userId": "05305083952686219705"
     },
     "user_tz": -630
    },
    "id": "FIyLcNepYr4f",
    "outputId": "5aae72a1-fdf8-4e16-a5e6-20b50c92307c"
   },
   "outputs": [
    {
     "data": {
      "text/plain": [
       "30"
      ]
     },
     "execution_count": 38,
     "metadata": {},
     "output_type": "execute_result"
    }
   ],
   "source": [
    "len(history[\"train_acc\"])"
   ]
  },
  {
   "cell_type": "code",
   "execution_count": 39,
   "metadata": {
    "colab": {
     "base_uri": "https://localhost:8080/",
     "height": 523
    },
    "executionInfo": {
     "elapsed": 1357,
     "status": "ok",
     "timestamp": 1638492956786,
     "user": {
      "displayName": "Nero Cao",
      "photoUrl": "https://lh3.googleusercontent.com/a/default-user=s64",
      "userId": "05305083952686219705"
     },
     "user_tz": -630
    },
    "id": "xu7Y2BPzLZgi",
    "outputId": "0ff83438-c0c7-43e1-9759-506c95f8369a"
   },
   "outputs": [
    {
     "data": {
      "image/png": "[encoded data removed]",
      "text/plain": [
       "<Figure size 864x576 with 1 Axes>"
      ]
     },
     "metadata": {
      "image/png": {
       "height": 506,
       "width": 732
      }
     },
     "output_type": "display_data"
    }
   ],
   "source": [
    "plt.plot(history['train_acc'], label='train accuracy')\n",
    "plt.plot(history['val_acc'], label='validation accuracy')\n",
    "\n",
    "plt.title('Training history')\n",
    "plt.ylabel('Accuracy')\n",
    "plt.xlabel('Epoch')\n",
    "plt.legend()\n",
    "plt.ylim([0, 1]);"
   ]
  },
  {
   "cell_type": "code",
   "execution_count": 40,
   "metadata": {
    "id": "8nY-aLqLTZQh"
   },
   "outputs": [],
   "source": [
    "# tokenizer.save_vocabulary('vacab.txt')"
   ]
  },
  {
   "cell_type": "code",
   "execution_count": 41,
   "metadata": {
    "id": "BdEQssznUOnh"
   },
   "outputs": [],
   "source": [
    "# tokenizer.save_pretrained('content/drive/MyDrive/model/best_model/')"
   ]
  },
  {
   "cell_type": "code",
   "execution_count": 42,
   "metadata": {
    "id": "2endpO5FUimL"
   },
   "outputs": [],
   "source": [
    "# model.bert.save_pretrained('best_model_state.bin')"
   ]
  },
  {
   "cell_type": "code",
   "execution_count": null,
   "metadata": {
    "id": "Tq1lJWndW3YH"
   },
   "outputs": [],
   "source": []
  },
  {
   "cell_type": "code",
   "execution_count": 43,
   "metadata": {
    "colab": {
     "base_uri": "https://localhost:8080/"
    },
    "executionInfo": {
     "elapsed": 4329,
     "status": "ok",
     "timestamp": 1638492965614,
     "user": {
      "displayName": "Nero Cao",
      "photoUrl": "https://lh3.googleusercontent.com/a/default-user=s64",
      "userId": "05305083952686219705"
     },
     "user_tz": -630
    },
    "id": "YYMhWiIrBrV4",
    "outputId": "d5f2c8dc-6bb0-4278-8ebf-2840a3cd67c3"
   },
   "outputs": [
    {
     "name": "stderr",
     "output_type": "stream",
     "text": [
      "Some weights of the model checkpoint at bert-base-uncased were not used when initializing BertModel: ['cls.predictions.transform.dense.weight', 'cls.predictions.bias', 'cls.seq_relationship.weight', 'cls.predictions.transform.LayerNorm.bias', 'cls.predictions.transform.LayerNorm.weight', 'cls.seq_relationship.bias', 'cls.predictions.transform.dense.bias', 'cls.predictions.decoder.weight']\n",
      "- This IS expected if you are initializing BertModel from the checkpoint of a model trained on another task or with another architecture (e.g. initializing a BertForSequenceClassification model from a BertForPreTraining model).\n",
      "- This IS NOT expected if you are initializing BertModel from the checkpoint of a model that you expect to be exactly identical (initializing a BertForSequenceClassification model from a BertForSequenceClassification model).\n"
     ]
    }
   ],
   "source": [
    "# !gdown --id 1V8itWtowCYnb2Bc9KlK9SxGff9WwmogA\n",
    "\n",
    "model = SentimentClassifier(len(class_names))\n",
    "model.load_state_dict(torch.load('ed_best_model_state.bin'))\n",
    "model = model.to(device)"
   ]
  },
  {
   "cell_type": "code",
   "execution_count": 44,
   "metadata": {
    "colab": {
     "base_uri": "https://localhost:8080/"
    },
    "executionInfo": {
     "elapsed": 13,
     "status": "ok",
     "timestamp": 1638492965614,
     "user": {
      "displayName": "Nero Cao",
      "photoUrl": "https://lh3.googleusercontent.com/a/default-user=s64",
      "userId": "05305083952686219705"
     },
     "user_tz": -630
    },
    "id": "KYRPY0C-fFQh",
    "outputId": "d30137d0-6f02-48d6-d817-f4f356bf5b3b"
   },
   "outputs": [
    {
     "data": {
      "text/plain": [
       "26"
      ]
     },
     "execution_count": 44,
     "metadata": {},
     "output_type": "execute_result"
    }
   ],
   "source": [
    "len(df_test)"
   ]
  },
  {
   "cell_type": "code",
   "execution_count": null,
   "metadata": {
    "id": "uGzen0txKe3I"
   },
   "outputs": [],
   "source": []
  },
  {
   "cell_type": "code",
   "execution_count": null,
   "metadata": {
    "id": "29UsbpIvKcmZ"
   },
   "outputs": [],
   "source": []
  },
  {
   "cell_type": "code",
   "execution_count": 45,
   "metadata": {
    "colab": {
     "base_uri": "https://localhost:8080/"
    },
    "executionInfo": {
     "elapsed": 1023,
     "status": "ok",
     "timestamp": 1638492966626,
     "user": {
      "displayName": "Nero Cao",
      "photoUrl": "https://lh3.googleusercontent.com/a/default-user=s64",
      "userId": "05305083952686219705"
     },
     "user_tz": -630
    },
    "id": "c7Cckbz8GbDK",
    "outputId": "40747091-a75e-4cb2-f1ff-69cd677293f5"
   },
   "outputs": [
    {
     "ename": "AttributeError",
     "evalue": "'float' object has no attribute 'item'",
     "output_type": "error",
     "traceback": [
      "\u001b[0;31m---------------------------------------------------------------------------\u001b[0m",
      "\u001b[0;31mAttributeError\u001b[0m                            Traceback (most recent call last)",
      "\u001b[0;32m/tmp/ipykernel_61682/2613915468.py\u001b[0m in \u001b[0;36m<module>\u001b[0;34m\u001b[0m\n\u001b[1;32m      7\u001b[0m )\n\u001b[1;32m      8\u001b[0m \u001b[0;34m\u001b[0m\u001b[0m\n\u001b[0;32m----> 9\u001b[0;31m \u001b[0mtest_acc\u001b[0m\u001b[0;34m.\u001b[0m\u001b[0mitem\u001b[0m\u001b[0;34m(\u001b[0m\u001b[0;34m)\u001b[0m\u001b[0;34m\u001b[0m\u001b[0;34m\u001b[0m\u001b[0m\n\u001b[0m",
      "\u001b[0;31mAttributeError\u001b[0m: 'float' object has no attribute 'item'"
     ]
    }
   ],
   "source": [
    "# test_acc, _ = eval_model(\n",
    "#   model,\n",
    "#   test_data_loader,\n",
    "#   loss_fn,\n",
    "#   device,\n",
    "#   len(df_test)\n",
    "# )\n",
    "\n",
    "# test_acc.item()"
   ]
  },
  {
   "cell_type": "code",
   "execution_count": null,
   "metadata": {
    "id": "QwYAGJUiiuxv"
   },
   "outputs": [],
   "source": []
  },
  {
   "cell_type": "code",
   "execution_count": 65,
   "metadata": {
    "id": "aKwdpn1PGfIy"
   },
   "outputs": [],
   "source": [
    "def get_predictions(model, data_loader):\n",
    "  model = model.eval()\n",
    "  \n",
    "  review_texts = []\n",
    "  predictions = []\n",
    "  prediction_probs = []\n",
    "  real_values = []\n",
    "  outputs_list = []\n",
    "  targets_list = []\n",
    "\n",
    "  with torch.no_grad():\n",
    "    for d in data_loader:\n",
    "\n",
    "      texts = d[\"review_text\"]\n",
    "      input_ids = d[\"input_ids\"].to(device)\n",
    "      attention_mask = d[\"attention_mask\"].to(device)\n",
    "      targets = d[\"targets\"].to(device)\n",
    "\n",
    "      outputs = model(\n",
    "        input_ids=input_ids,\n",
    "        attention_mask=attention_mask\n",
    "      )\n",
    "\n",
    "      if outputs.dim()==1:\n",
    "        outputs = torch.unsqueeze(outputs,0)\n",
    "      print(outputs)\n",
    "      preds = torch.where(outputs > 0,1,0)\n",
    "\n",
    "      review_texts.extend(texts)\n",
    "      predictions.extend(preds)\n",
    "      outputs_list.extend(outputs)\n",
    "      targets_list.extend(targets)\n",
    "\n",
    "  predictions = torch.stack(predictions).cpu()\n",
    "  outputs_list = torch.stack(outputs_list).cpu()\n",
    "  targets_list = torch.stack(targets_list).cpu()\n",
    "  return review_texts, predictions, outputs_list,targets_list"
   ]
  },
  {
   "cell_type": "code",
   "execution_count": null,
   "metadata": {
    "id": "neshR7Q9DXGK"
   },
   "outputs": [],
   "source": []
  },
  {
   "cell_type": "code",
   "execution_count": null,
   "metadata": {
    "id": "UIwgaRKNDPcS"
   },
   "outputs": [],
   "source": []
  },
  {
   "cell_type": "code",
   "execution_count": 66,
   "metadata": {
    "colab": {
     "base_uri": "https://localhost:8080/"
    },
    "executionInfo": {
     "elapsed": 406,
     "status": "ok",
     "timestamp": 1638492992614,
     "user": {
      "displayName": "Nero Cao",
      "photoUrl": "https://lh3.googleusercontent.com/a/default-user=s64",
      "userId": "05305083952686219705"
     },
     "user_tz": -630
    },
    "id": "YkPHXF0MGiCh",
    "outputId": "7f65ced1-b49b-48e0-b6d3-def6e273316a"
   },
   "outputs": [
    {
     "name": "stdout",
     "output_type": "stream",
     "text": [
      "tensor([[-4.5464, -4.1420, -2.6997, -3.5620,  2.9957, -0.8852, -3.7077, -1.9804,\n",
      "         -0.8320, -1.3839],\n",
      "        [-2.0860, -3.7761, -2.8200, -0.9132, -2.0418, -3.3018, -3.0454,  0.2373,\n",
      "         -2.3649, -1.3017],\n",
      "        [-4.3308, -4.3803, -3.1323, -3.8491,  0.0385, -2.5131, -3.3445, -1.9157,\n",
      "         -1.5500, -1.0754],\n",
      "        [-3.6637, -3.5653, -2.5436, -2.1258, -2.8439, -3.5363, -3.0259, -1.2829,\n",
      "         -2.3353,  1.1852],\n",
      "        [-2.1150, -4.2887, -3.8107, -1.2748, -1.3805, -3.3918, -3.3720,  0.3240,\n",
      "         -2.7812, -1.7361],\n",
      "        [-2.8002, -3.0396, -2.0708, -0.6949, -3.5488, -3.5318, -2.6951, -0.0202,\n",
      "         -2.2623,  1.0305],\n",
      "        [-3.3575, -4.6841, -3.7350, -2.0422, -1.6243, -3.8202, -3.6739, -0.2583,\n",
      "         -2.4905, -0.8956],\n",
      "        [-3.8886, -4.0726, -3.1188, -3.1965,  1.4626, -2.6339, -3.5564,  1.0323,\n",
      "         -2.1157, -2.0368],\n",
      "        [-3.9684, -3.5343, -2.3080, -2.6080, -1.9834, -2.8487, -2.8662, -2.2331,\n",
      "         -1.7131,  1.1327],\n",
      "        [-3.0506, -2.7451, -1.7519, -1.9163, -2.1427, -3.2651, -2.7893,  0.6742,\n",
      "         -1.9851,  0.2614],\n",
      "        [-2.6025, -4.2291, -2.6851, -1.3974, -1.4696, -3.4468, -3.0290, -2.7269,\n",
      "         -1.5136, -0.5802],\n",
      "        [-3.9072, -3.5891, -2.5089, -2.8413, -2.1569, -2.9435, -2.6473, -2.1990,\n",
      "         -1.4875,  1.1775],\n",
      "        [-0.8292, -3.1884, -2.6528, -1.4797, -2.2805, -2.5945, -0.9144, -2.6682,\n",
      "         -0.8008, -1.1423],\n",
      "        [-3.0910, -4.8509, -4.0476, -1.9938, -1.3378, -3.1861, -3.3700, -1.9951,\n",
      "         -1.8612, -1.1730],\n",
      "        [-4.3537, -4.3500, -2.6172, -3.4224,  2.9934, -1.8094, -3.9908, -1.5239,\n",
      "         -1.3010, -2.1077],\n",
      "        [-4.3694, -4.2872, -2.7525, -3.6979,  3.1541, -1.4821, -3.7630, -1.1105,\n",
      "         -1.3802, -1.9274]], device='cuda:0')\n",
      "tensor([[-3.5973, -4.1731, -3.3288, -2.4105, -2.4612, -3.6389, -3.2490,  0.2921,\n",
      "         -2.6063, -0.2301],\n",
      "        [-4.6166, -3.5577, -1.8076, -3.9854,  2.4188, -1.8153, -3.6877, -0.6638,\n",
      "         -1.6077, -1.0882],\n",
      "        [-3.5463, -3.8396, -3.3182, -2.4347, -0.2729, -2.8496, -3.5082,  1.6877,\n",
      "         -2.3198, -1.4837],\n",
      "        [-4.1537, -3.9905, -2.7617, -3.1686, -0.1086, -1.7592, -3.0258, -3.0819,\n",
      "         -0.7551, -0.0139],\n",
      "        [-4.1125, -3.6776, -1.9692, -2.9291,  3.0983, -0.4157, -3.4174, -3.0624,\n",
      "         -0.3353, -0.9782],\n",
      "        [-3.9571, -3.0408, -0.8043, -3.1937,  2.2758, -0.9705, -2.9470, -3.0743,\n",
      "         -0.3677, -0.4679],\n",
      "        [-3.6260, -4.3989, -3.3595, -2.8489,  0.8339, -2.9065, -3.6477,  0.6567,\n",
      "         -2.4272, -2.1930],\n",
      "        [-0.7798, -3.5951, -2.9628,  1.1325, -3.9675, -3.8340, -2.6006, -0.9731,\n",
      "         -2.3730,  0.2664],\n",
      "        [ 0.6359, -3.5432, -3.1958,  0.9282, -3.3000, -3.6065, -2.3961, -1.4715,\n",
      "         -2.7340, -0.9721],\n",
      "        [-4.6402, -4.5416, -2.9335, -3.6305,  2.1584, -2.3560, -4.0816, -1.3679,\n",
      "         -1.2413, -1.9270]], device='cuda:0')\n"
     ]
    }
   ],
   "source": [
    "y_review_texts, y_pred, y_pred_probs, y_test = get_predictions(\n",
    "  model,\n",
    "  test_data_loader\n",
    ")"
   ]
  },
  {
   "cell_type": "code",
   "execution_count": 61,
   "metadata": {
    "scrolled": true
   },
   "outputs": [
    {
     "data": {
      "text/plain": [
       "torch.Size([26, 10])"
      ]
     },
     "execution_count": 61,
     "metadata": {},
     "output_type": "execute_result"
    }
   ],
   "source": [
    "y_test.shape"
   ]
  },
  {
   "cell_type": "code",
   "execution_count": 51,
   "metadata": {},
   "outputs": [
    {
     "data": {
      "text/plain": [
       "torch.Size([26, 10])"
      ]
     },
     "execution_count": 51,
     "metadata": {},
     "output_type": "execute_result"
    }
   ],
   "source": [
    "y_pred.shape"
   ]
  },
  {
   "cell_type": "code",
   "execution_count": 62,
   "metadata": {
    "colab": {
     "base_uri": "https://localhost:8080/"
    },
    "executionInfo": {
     "elapsed": 2,
     "status": "ok",
     "timestamp": 1638492992614,
     "user": {
      "displayName": "Nero Cao",
      "photoUrl": "https://lh3.googleusercontent.com/a/default-user=s64",
      "userId": "05305083952686219705"
     },
     "user_tz": -630
    },
    "id": "QTzPA7C7C-0x",
    "outputId": "52e5a8a0-5621-42dc-ef1f-c459fc1f579d"
   },
   "outputs": [
    {
     "name": "stdout",
     "output_type": "stream",
     "text": [
      "                                 precision    recall  f1-score   support\n",
      "\n",
      "                 cancer journey     1.0000    0.2000    0.3333         5\n",
      "                            qum     0.0000    0.0000    0.0000         0\n",
      "      health inequity/disparity     0.0000    0.0000    0.0000         1\n",
      "             patient centricity     1.0000    0.3333    0.5000         6\n",
      "                            phc     0.9000    0.8182    0.8571        11\n",
      "innovation/innovative therapies     0.0000    0.0000    0.0000         4\n",
      "                  affordability     0.0000    0.0000    0.0000         1\n",
      "          initiatives/education     0.5714    0.5714    0.5714         7\n",
      "                  timely access     0.0000    0.0000    0.0000         2\n",
      "                advocary/reform     0.8333    0.4545    0.5882        11\n",
      "\n",
      "                      micro avg     0.8077    0.4375    0.5676        48\n",
      "                      macro avg     0.4305    0.2377    0.2850        48\n",
      "                   weighted avg     0.7097    0.4375    0.5118        48\n",
      "                    samples avg     0.6346    0.4808    0.5192        48\n",
      "\n"
     ]
    }
   ],
   "source": [
    "print(classification_report(y_test, y_pred, target_names=class_names,digits = 4,zero_division=0))"
   ]
  },
  {
   "cell_type": "code",
   "execution_count": 63,
   "metadata": {
    "colab": {
     "base_uri": "https://localhost:8080/",
     "height": 538
    },
    "executionInfo": {
     "elapsed": 632,
     "status": "ok",
     "timestamp": 1638492993245,
     "user": {
      "displayName": "Nero Cao",
      "photoUrl": "https://lh3.googleusercontent.com/a/default-user=s64",
      "userId": "05305083952686219705"
     },
     "user_tz": -630
    },
    "id": "ZC9-9e1FGv4d",
    "outputId": "5dff47a6-0235-4a8e-8ec8-840189cd11bb"
   },
   "outputs": [
    {
     "ename": "ValueError",
     "evalue": "multilabel-indicator is not supported",
     "output_type": "error",
     "traceback": [
      "\u001b[0;31m---------------------------------------------------------------------------\u001b[0m",
      "\u001b[0;31mValueError\u001b[0m                                Traceback (most recent call last)",
      "\u001b[0;32m/tmp/ipykernel_61682/200508635.py\u001b[0m in \u001b[0;36m<module>\u001b[0;34m\u001b[0m\n\u001b[1;32m      6\u001b[0m   \u001b[0mplt\u001b[0m\u001b[0;34m.\u001b[0m\u001b[0mxlabel\u001b[0m\u001b[0;34m(\u001b[0m\u001b[0;34m'Predicted sentiment'\u001b[0m\u001b[0;34m)\u001b[0m\u001b[0;34m;\u001b[0m\u001b[0;34m\u001b[0m\u001b[0;34m\u001b[0m\u001b[0m\n\u001b[1;32m      7\u001b[0m \u001b[0;34m\u001b[0m\u001b[0m\n\u001b[0;32m----> 8\u001b[0;31m \u001b[0mcm\u001b[0m \u001b[0;34m=\u001b[0m \u001b[0mconfusion_matrix\u001b[0m\u001b[0;34m(\u001b[0m\u001b[0my_test\u001b[0m\u001b[0;34m,\u001b[0m \u001b[0my_pred\u001b[0m\u001b[0;34m)\u001b[0m\u001b[0;34m\u001b[0m\u001b[0;34m\u001b[0m\u001b[0m\n\u001b[0m\u001b[1;32m      9\u001b[0m \u001b[0mdf_cm\u001b[0m \u001b[0;34m=\u001b[0m \u001b[0mpd\u001b[0m\u001b[0;34m.\u001b[0m\u001b[0mDataFrame\u001b[0m\u001b[0;34m(\u001b[0m\u001b[0mcm\u001b[0m\u001b[0;34m,\u001b[0m \u001b[0mindex\u001b[0m\u001b[0;34m=\u001b[0m\u001b[0mclass_names\u001b[0m\u001b[0;34m,\u001b[0m \u001b[0mcolumns\u001b[0m\u001b[0;34m=\u001b[0m\u001b[0mclass_names\u001b[0m\u001b[0;34m)\u001b[0m\u001b[0;34m\u001b[0m\u001b[0;34m\u001b[0m\u001b[0m\n\u001b[1;32m     10\u001b[0m \u001b[0mshow_confusion_matrix\u001b[0m\u001b[0;34m(\u001b[0m\u001b[0mdf_cm\u001b[0m\u001b[0;34m)\u001b[0m\u001b[0;34m\u001b[0m\u001b[0;34m\u001b[0m\u001b[0m\n",
      "\u001b[0;32m~/anaconda3/lib/python3.9/site-packages/sklearn/utils/validation.py\u001b[0m in \u001b[0;36minner_f\u001b[0;34m(*args, **kwargs)\u001b[0m\n\u001b[1;32m     61\u001b[0m             \u001b[0mextra_args\u001b[0m \u001b[0;34m=\u001b[0m \u001b[0mlen\u001b[0m\u001b[0;34m(\u001b[0m\u001b[0margs\u001b[0m\u001b[0;34m)\u001b[0m \u001b[0;34m-\u001b[0m \u001b[0mlen\u001b[0m\u001b[0;34m(\u001b[0m\u001b[0mall_args\u001b[0m\u001b[0;34m)\u001b[0m\u001b[0;34m\u001b[0m\u001b[0;34m\u001b[0m\u001b[0m\n\u001b[1;32m     62\u001b[0m             \u001b[0;32mif\u001b[0m \u001b[0mextra_args\u001b[0m \u001b[0;34m<=\u001b[0m \u001b[0;36m0\u001b[0m\u001b[0;34m:\u001b[0m\u001b[0;34m\u001b[0m\u001b[0;34m\u001b[0m\u001b[0m\n\u001b[0;32m---> 63\u001b[0;31m                 \u001b[0;32mreturn\u001b[0m \u001b[0mf\u001b[0m\u001b[0;34m(\u001b[0m\u001b[0;34m*\u001b[0m\u001b[0margs\u001b[0m\u001b[0;34m,\u001b[0m \u001b[0;34m**\u001b[0m\u001b[0mkwargs\u001b[0m\u001b[0;34m)\u001b[0m\u001b[0;34m\u001b[0m\u001b[0;34m\u001b[0m\u001b[0m\n\u001b[0m\u001b[1;32m     64\u001b[0m \u001b[0;34m\u001b[0m\u001b[0m\n\u001b[1;32m     65\u001b[0m             \u001b[0;31m# extra_args > 0\u001b[0m\u001b[0;34m\u001b[0m\u001b[0;34m\u001b[0m\u001b[0m\n",
      "\u001b[0;32m~/anaconda3/lib/python3.9/site-packages/sklearn/metrics/_classification.py\u001b[0m in \u001b[0;36mconfusion_matrix\u001b[0;34m(y_true, y_pred, labels, sample_weight, normalize)\u001b[0m\n\u001b[1;32m    299\u001b[0m     \u001b[0my_type\u001b[0m\u001b[0;34m,\u001b[0m \u001b[0my_true\u001b[0m\u001b[0;34m,\u001b[0m \u001b[0my_pred\u001b[0m \u001b[0;34m=\u001b[0m \u001b[0m_check_targets\u001b[0m\u001b[0;34m(\u001b[0m\u001b[0my_true\u001b[0m\u001b[0;34m,\u001b[0m \u001b[0my_pred\u001b[0m\u001b[0;34m)\u001b[0m\u001b[0;34m\u001b[0m\u001b[0;34m\u001b[0m\u001b[0m\n\u001b[1;32m    300\u001b[0m     \u001b[0;32mif\u001b[0m \u001b[0my_type\u001b[0m \u001b[0;32mnot\u001b[0m \u001b[0;32min\u001b[0m \u001b[0;34m(\u001b[0m\u001b[0;34m\"binary\"\u001b[0m\u001b[0;34m,\u001b[0m \u001b[0;34m\"multiclass\"\u001b[0m\u001b[0;34m)\u001b[0m\u001b[0;34m:\u001b[0m\u001b[0;34m\u001b[0m\u001b[0;34m\u001b[0m\u001b[0m\n\u001b[0;32m--> 301\u001b[0;31m         \u001b[0;32mraise\u001b[0m \u001b[0mValueError\u001b[0m\u001b[0;34m(\u001b[0m\u001b[0;34m\"%s is not supported\"\u001b[0m \u001b[0;34m%\u001b[0m \u001b[0my_type\u001b[0m\u001b[0;34m)\u001b[0m\u001b[0;34m\u001b[0m\u001b[0;34m\u001b[0m\u001b[0m\n\u001b[0m\u001b[1;32m    302\u001b[0m \u001b[0;34m\u001b[0m\u001b[0m\n\u001b[1;32m    303\u001b[0m     \u001b[0;32mif\u001b[0m \u001b[0mlabels\u001b[0m \u001b[0;32mis\u001b[0m \u001b[0;32mNone\u001b[0m\u001b[0;34m:\u001b[0m\u001b[0;34m\u001b[0m\u001b[0;34m\u001b[0m\u001b[0m\n",
      "\u001b[0;31mValueError\u001b[0m: multilabel-indicator is not supported"
     ]
    }
   ],
   "source": [
    "# def show_confusion_matrix(confusion_matrix):\n",
    "#   hmap = sns.heatmap(confusion_matrix, annot=True, fmt=\"d\", cmap=\"Blues\")\n",
    "#   hmap.yaxis.set_ticklabels(hmap.yaxis.get_ticklabels(), rotation=0, ha='right')\n",
    "#   hmap.xaxis.set_ticklabels(hmap.xaxis.get_ticklabels(), rotation=30, ha='right')\n",
    "#   plt.ylabel('True sentiment')\n",
    "#   plt.xlabel('Predicted sentiment');\n",
    "\n",
    "# cm = confusion_matrix(y_test, y_pred)\n",
    "# df_cm = pd.DataFrame(cm, index=class_names, columns=class_names)\n",
    "# show_confusion_matrix(df_cm)"
   ]
  },
  {
   "cell_type": "code",
   "execution_count": null,
   "metadata": {
    "id": "yb5GJEJT829J"
   },
   "outputs": [],
   "source": []
  },
  {
   "cell_type": "code",
   "execution_count": null,
   "metadata": {
    "id": "6QZ0EgQoalz2"
   },
   "outputs": [],
   "source": [
    "# !pip install lit-nlp"
   ]
  },
  {
   "cell_type": "code",
   "execution_count": null,
   "metadata": {
    "id": "eAeHdVF7c-QF"
   },
   "outputs": [],
   "source": [
    "# from lit_nlp.api.dataset import Dataset\n",
    "# class MultiNLIData(Dataset):\n",
    "#   \"\"\"Loader for MultiNLI development set.\"\"\"\n",
    "#   def __init__(self, df):\n",
    "#     # Read the eval set from a .tsv file as distributed with the GLUE benchmark.\n",
    "#     # df = pandas.read_csv(path, sep='\\t')\n",
    "#     # Store as a list of dicts, conforming to self.spec()\n",
    "#     self.LABELS = [0,1]\n",
    "#     self._examples = [{\n",
    "#       'sentence': row['DESCRIPTION_EN'],\n",
    "#       # 'hypothesis': row['sentence2'],\n",
    "#       'label': row['LABEL']\n",
    "#       # 'genre': row['genre'],\n",
    "#     } for _, row in df.iterrows()]\n",
    "#   def spec(self):\n",
    "#     return {\n",
    "#       'sentence': lit_types.TextSegment(),\n",
    "#       # 'hypothesis': lit_types.TextSegment(),\n",
    "#       'label': lit_types.CategoryLabel(vocab=self.LABELS),\n",
    "#       # We can include additional fields, which don't have to be used by the model.\n",
    "#       # 'genre': lit_types.Label(),\n",
    "#     }"
   ]
  },
  {
   "cell_type": "code",
   "execution_count": null,
   "metadata": {
    "id": "l5886G4mdXia"
   },
   "outputs": [],
   "source": []
  },
  {
   "cell_type": "code",
   "execution_count": null,
   "metadata": {
    "id": "mrSBCdqO0sUs"
   },
   "outputs": [],
   "source": []
  },
  {
   "cell_type": "code",
   "execution_count": null,
   "metadata": {
    "id": "f-nX4zrOdxpo"
   },
   "outputs": [],
   "source": []
  },
  {
   "cell_type": "code",
   "execution_count": null,
   "metadata": {
    "id": "ARdnz5td18VV"
   },
   "outputs": [],
   "source": []
  },
  {
   "cell_type": "code",
   "execution_count": null,
   "metadata": {
    "id": "iMviJZsfdifG"
   },
   "outputs": [],
   "source": []
  },
  {
   "cell_type": "code",
   "execution_count": null,
   "metadata": {
    "id": "8h5I2QKodj8b"
   },
   "outputs": [],
   "source": []
  },
  {
   "cell_type": "code",
   "execution_count": null,
   "metadata": {
    "id": "0-abzg6avOQq"
   },
   "outputs": [],
   "source": []
  },
  {
   "cell_type": "code",
   "execution_count": null,
   "metadata": {
    "id": "flJ1xtWNvYej"
   },
   "outputs": [],
   "source": []
  },
  {
   "cell_type": "code",
   "execution_count": null,
   "metadata": {
    "id": "nBxb2zhWvfaK"
   },
   "outputs": [],
   "source": [
    "# from absl import app\n",
    "# from absl import flags\n",
    "# from absl import logging\n",
    "\n",
    "# from lit_nlp import dev_server\n",
    "# from lit_nlp import server_flags\n",
    "# from lit_nlp.api import model as lit_model\n",
    "# from lit_nlp.api import types as lit_types\n",
    "# # Use the regular GLUE data loaders, because these are very simple already.\n",
    "# from lit_nlp.examples.datasets import glue\n",
    "# from lit_nlp.lib import utils\n",
    "\n",
    "# import torch\n",
    "# import transformers\n",
    "\n",
    "# # NOTE: additional flags defined in server_flags.py\n",
    "\n",
    "# FLAGS = flags.FLAGS\n",
    "\n",
    "# flags.DEFINE_string(\n",
    "#     \"model_path\",\n",
    "#     \"https://storage.googleapis.com/what-if-tool-resources/lit-models/sst2_tiny.tar.gz\",\n",
    "#     \"Path to trained model, in standard transformers format, e.g. as \"\n",
    "#     \"saved by model.save_pretrained() and tokenizer.save_pretrained()\")\n",
    "\n",
    "\n",
    "# def _from_pretrained(cls, *args, **kw):\n",
    "#   \"\"\"Load a transformers model in PyTorch, with fallback to TF2/Keras weights.\"\"\"\n",
    "#   try:\n",
    "#     return cls.from_pretrained(*args, **kw)\n",
    "#   except OSError as e:\n",
    "#     logging.warning(\"Caught OSError loading model: %s\", e)\n",
    "#     logging.warning(\n",
    "#         \"Re-trying to convert from TensorFlow checkpoint (from_tf=True)\")\n",
    "#     return cls.from_pretrained(*args, from_tf=True, **kw)\n",
    "\n",
    "\n",
    "# class SimpleSentimentModel(lit_model.Model):\n",
    "#   \"\"\"Simple sentiment analysis model.\"\"\"\n",
    "\n",
    "#   LABELS = [0,1]  # negative, positive\n",
    "\n",
    "#   def __init__(self, model_name_or_path):\n",
    "#     self.tokenizer = transformers.AutoTokenizer.from_pretrained(\n",
    "#         model_name_or_path)\n",
    "#     model_config = transformers.AutoConfig.from_pretrained(\n",
    "#         model_name_or_path,\n",
    "#         num_labels=2,\n",
    "#         output_hidden_states=True,\n",
    "#         output_attentions=True,\n",
    "#     )\n",
    "#     # This is a just a regular PyTorch model.\n",
    "#     self.model = _from_pretrained(\n",
    "#         transformers.AutoModelForSequenceClassification,\n",
    "#         model_name_or_path,\n",
    "#         config=model_config)\n",
    "#     self.model.eval()\n",
    "\n",
    "#   ##\n",
    "#   # LIT API implementation\n",
    "#   def max_minibatch_size(self):\n",
    "#     # This tells lit_model.Model.predict() how to batch inputs to\n",
    "#     # predict_minibatch().\n",
    "#     # Alternately, you can just override predict() and handle batching yourself.\n",
    "#     return 16\n",
    "\n",
    "#   def predict_minibatch(self, inputs):\n",
    "#     # Preprocess to ids and masks, and make the input batch.\n",
    "#     encoded_input = self.tokenizer.batch_encode_plus(\n",
    "#         [ex[\"sentence\"] for ex in inputs],\n",
    "#         return_tensors=\"pt\",\n",
    "#         add_special_tokens=True,\n",
    "#         max_length=200,\n",
    "#         padding=\"longest\",\n",
    "#         truncation=\"longest_first\")\n",
    "\n",
    "#     # Check and send to cuda (GPU) if available\n",
    "#     if torch.cuda.is_available():\n",
    "#       self.model.cuda()\n",
    "#       for tensor in encoded_input:\n",
    "#         encoded_input[tensor] = encoded_input[tensor].cuda()\n",
    "#     # Run a forward pass.\n",
    "#     with torch.no_grad():  # remove this if you need gradients.\n",
    "#       out: transformers.modeling_outputs.SequenceClassifierOutput = \\\n",
    "#           self.model(**encoded_input)\n",
    "\n",
    "#     # Post-process outputs.\n",
    "#     batched_outputs = {\n",
    "#         \"probas\": torch.nn.functional.softmax(out.logits, dim=-1),\n",
    "#         \"input_ids\": encoded_input[\"input_ids\"],\n",
    "#         \"ntok\": torch.sum(encoded_input[\"attention_mask\"], dim=1),\n",
    "#         \"cls_emb\": out.hidden_states[-1][:, 0],  # last layer, first token\n",
    "#     }\n",
    "#     # Return as NumPy for further processing.\n",
    "#     detached_outputs = {k: v.cpu().numpy() for k, v in batched_outputs.items()}\n",
    "#     # Unbatch outputs so we get one record per input example.\n",
    "#     for output in utils.unbatch_preds(detached_outputs):\n",
    "#       ntok = output.pop(\"ntok\")\n",
    "#       output[\"tokens\"] = self.tokenizer.convert_ids_to_tokens(\n",
    "#           output.pop(\"input_ids\")[1:ntok - 1])\n",
    "#       yield output\n",
    "\n",
    "#   def input_spec(self) -> lit_types.Spec:\n",
    "#     return {\n",
    "#         \"sentence\": lit_types.TextSegment(),\n",
    "#         \"label\": lit_types.CategoryLabel(vocab=self.LABELS, required=False)\n",
    "#     }\n",
    "\n",
    "#   def output_spec(self) -> lit_types.Spec:\n",
    "#     return {\n",
    "#         \"tokens\": lit_types.Tokens(),\n",
    "#         \"probas\": lit_types.MulticlassPreds(parent=\"label\", vocab=self.LABELS),\n",
    "#         \"cls_emb\": lit_types.Embeddings()\n",
    "#     }\n"
   ]
  },
  {
   "cell_type": "code",
   "execution_count": null,
   "metadata": {
    "id": "B64IFx5g461l"
   },
   "outputs": [],
   "source": [
    "# dataset = MultiNLIData(df_train.sample(1800))"
   ]
  },
  {
   "cell_type": "code",
   "execution_count": null,
   "metadata": {
    "id": "qR0nbr94v2xz"
   },
   "outputs": [],
   "source": [
    "# datasets = {\"sst_dev\": dataset}\n",
    "# models = {\"sst\": SimpleSentimentModel(\"/content/drive/MyDrive/model/best_model/\")}\n",
    "# # models = {\"sst\": SimpleSentimentModel(\"bert-base-uncased\")}"
   ]
  },
  {
   "cell_type": "code",
   "execution_count": null,
   "metadata": {
    "id": "WR8VwsH9v4l8"
   },
   "outputs": [],
   "source": [
    "# from lit_nlp import notebook\n",
    "# widget = notebook.LitWidget(models, datasets, height=800)"
   ]
  },
  {
   "cell_type": "code",
   "execution_count": null,
   "metadata": {
    "id": "wNPctrXDBQSM"
   },
   "outputs": [],
   "source": [
    "# mm = models[\"sst\"]"
   ]
  },
  {
   "cell_type": "code",
   "execution_count": null,
   "metadata": {
    "id": "lHX6hJtVCAuX"
   },
   "outputs": [],
   "source": [
    "# mm.model.config"
   ]
  },
  {
   "cell_type": "code",
   "execution_count": null,
   "metadata": {
    "id": "cihtCCxC3ftN"
   },
   "outputs": [],
   "source": [
    "# widget.render()"
   ]
  },
  {
   "cell_type": "code",
   "execution_count": null,
   "metadata": {
    "id": "h5c4S99U5UOS"
   },
   "outputs": [],
   "source": [
    "# dataset.LABELS\n"
   ]
  },
  {
   "cell_type": "code",
   "execution_count": null,
   "metadata": {
    "id": "WxSfPfOF7dNo"
   },
   "outputs": [],
   "source": [
    "# df.loc[df.NAME==\"三角防务\"]"
   ]
  },
  {
   "cell_type": "code",
   "execution_count": null,
   "metadata": {
    "id": "UHZ2GHS2YPJx"
   },
   "outputs": [],
   "source": [
    "# import torch\n",
    "# from torch import nn, optim\n",
    "# from torch.utils.data import Dataset, DataLoader\n",
    "\n",
    "# from transformers import BertTokenizer, BertForSequenceClassification, Trainer, BertModel\n",
    "\n",
    "\n",
    "# class ModelNero:\n",
    "#     def __init__(self, base_model_name, num_labels, path, max_len=300, batch_size=16):\n",
    "#         self.tokenizer = BertTokenizer.from_pretrained(base_model_name)\n",
    "#         self.model = SentimentClassifier(num_labels, base_model_name)\n",
    "#         self.model.load_state_dict(torch.load(path, map_location=torch.device('cpu')))\n",
    "\n",
    "#         self.max_len = max_len\n",
    "#         self.batch_size = batch_size\n",
    "\n",
    "#     def create_data_loader(self, data):\n",
    "#         ds = GPReviewDataset(\n",
    "#                 reviews=data,\n",
    "#                 # targets=df.rating.to_numpy(),\n",
    "#                 tokenizer=self.tokenizer,\n",
    "#                 max_len=self.max_len\n",
    "#         )\n",
    "\n",
    "#         return DataLoader(\n",
    "#                 ds,\n",
    "#                 batch_size=self.batch_size,\n",
    "#                 num_workers=4\n",
    "#         )\n",
    "\n",
    "#     def get_predictions(self, data_loader):\n",
    "#         model = self.model.eval()\n",
    "\n",
    "#         review_texts = []\n",
    "#         predictions = []\n",
    "#         prediction_probs = []\n",
    "#         real_values = []\n",
    "\n",
    "#         with torch.no_grad():\n",
    "#             for d in data_loader:\n",
    "#                 texts = d[\"review_text\"]\n",
    "#                 # input_ids = d[\"input_ids\"].to(device)\n",
    "#                 # attention_mask = d[\"attention_mask\"].to(device)\n",
    "#                 # targets = d[\"targets\"].to(device)\n",
    "\n",
    "#                 # outputs = model(\n",
    "#                 #         input_ids=input_ids,\n",
    "#                 #         attention_mask=attention_mask\n",
    "#                 # )\n",
    "#                 outputs = model(\n",
    "#                         input_ids=d[\"input_ids\"],\n",
    "#                         attention_mask=d[\"attention_mask\"]\n",
    "#                 )\n",
    "\n",
    "#                 _, preds = torch.max(outputs, dim=1)\n",
    "\n",
    "#                 # probs = F.softmax(outputs, dim=1)\n",
    "#                 #\n",
    "#                 # review_texts.extend(texts)\n",
    "#                 predictions.extend(preds)\n",
    "#                 # prediction_probs.extend(probs)\n",
    "#                 # real_values.extend(targets)\n",
    "#         return predictions\n",
    "\n",
    "\n",
    "# class GPReviewDataset(Dataset):\n",
    "\n",
    "#     def __init__(self, reviews, tokenizer, max_len):\n",
    "#         self.reviews = reviews\n",
    "#         # self.targets = targets\n",
    "#         self.tokenizer = tokenizer\n",
    "#         self.max_len = max_len\n",
    "\n",
    "#     def __len__(self):\n",
    "#         return len(self.reviews)\n",
    "\n",
    "#     def __getitem__(self, item):\n",
    "#         review = str(self.reviews[item])\n",
    "#         # target = self.targets[item]\n",
    "\n",
    "#         encoding = self.tokenizer.encode_plus(\n",
    "#                 review,\n",
    "#                 add_special_tokens=True,\n",
    "#                 max_length=self.max_len,\n",
    "#                 return_token_type_ids=False,\n",
    "#                 padding='max_length',\n",
    "#                 truncation=True,\n",
    "#                 return_attention_mask=True,\n",
    "#                 return_tensors='pt',\n",
    "#         )\n",
    "\n",
    "#         return {\n",
    "#             'review_text'   : review,\n",
    "#             'input_ids'     : encoding['input_ids'].flatten(),\n",
    "#             'attention_mask': encoding['attention_mask'].flatten(),\n",
    "#             # 'targets'       : torch.tensor(target, dtype=torch.long)\n",
    "#         }\n",
    "\n",
    "\n",
    "# class SentimentClassifier(nn.Module):\n",
    "\n",
    "#     def __init__(self, n_classes, model_name):\n",
    "#         super(SentimentClassifier, self).__init__()\n",
    "#         self.bert = BertModel.from_pretrained(model_name)\n",
    "#         # self.drop = nn.Dropout(p=0.1)\n",
    "#         # self.relu = nn.ReLU()\n",
    "#         # self.L1 = nn.Linear(self.bert.config.hidden_size,self.bert.config.hidden_size//2)\n",
    "#         self.out = nn.Linear(self.bert.config.hidden_size, n_classes)\n",
    "\n",
    "#     def forward(self, input_ids, attention_mask):\n",
    "#         pooled_output = self.bert(\n",
    "#                 input_ids=input_ids,\n",
    "#                 attention_mask=attention_mask\n",
    "#         )[1]\n",
    "\n",
    "#         # output = self.drop(pooled_output)\n",
    "#         # # output = self.L1(output)\n",
    "#         output = self.out(pooled_output)\n",
    "\n",
    "#         return output\n",
    "\n",
    "\n",
    "# if __name__ == '__main__':\n",
    "#     base_model_name = \"bert-base-uncased\"\n",
    "#     num_labels = 3\n",
    "#     path = \"/content/drive/MyDrive/project/model_last/last_model_state.bin\"\n",
    "#     model = ModelNero(base_model_name, num_labels, path)\n",
    "\n",
    "#     allData = ['this pizza is good', 'this pizza looks like shit']\n",
    "#     dataLoader = model.create_data_loader(allData)\n",
    "#     preds = model.get_predictions(dataLoader)\n",
    "#     print(preds)"
   ]
  },
  {
   "cell_type": "code",
   "execution_count": null,
   "metadata": {
    "id": "Oe6u2rDEnVTF"
   },
   "outputs": [],
   "source": []
  },
  {
   "cell_type": "code",
   "execution_count": null,
   "metadata": {
    "id": "danP3ZV6nYEU"
   },
   "outputs": [],
   "source": []
  },
  {
   "cell_type": "code",
   "execution_count": null,
   "metadata": {
    "id": "DaKoo9q6nd8Z"
   },
   "outputs": [],
   "source": []
  }
 ],
 "metadata": {
  "accelerator": "GPU",
  "colab": {
   "collapsed_sections": [],
   "name": "Project_ED_BERT_Method0.ipynb",
   "provenance": [
    {
     "file_id": "1iAMhaowW2Kcu1HcLcJndL8coOo40VwP5",
     "timestamp": 1638431355048
    },
    {
     "file_id": "1o4n6Hq_fTa-9bZtTgXKRpZqgrWEn1CHv",
     "timestamp": 1633325396430
    },
    {
     "file_id": "1bn3tYjWp7f5Uc_K5Qwkm9Z-Hrp9TeO0T",
     "timestamp": 1633307974918
    }
   ]
  },
  "kernelspec": {
   "display_name": "Python 3 (ipykernel)",
   "language": "python",
   "name": "python3"
  },
  "language_info": {
   "codemirror_mode": {
    "name": "ipython",
    "version": 3
   },
   "file_extension": ".py",
   "mimetype": "text/x-python",
   "name": "python",
   "nbconvert_exporter": "python",
   "pygments_lexer": "ipython3",
   "version": "3.9.7"
  }
 },
 "nbformat": 4,
 "nbformat_minor": 1
}
